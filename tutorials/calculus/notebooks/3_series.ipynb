{
 "cells": [
  {
   "cell_type": "markdown",
   "metadata": {},
   "source": [
    "# Sequences & Series\n",
    "_______________________\n",
    "\n",
    "### Series Expansion\n",
    "\n",
    "Computing a series expansion using SymPy is pretty straightforward. Consider the following equation:\n",
    "\n",
    "$f(x) = \\frac{1}{x + 1}$\n",
    "\n",
    "And recall that $\\lim_{x\\to 0} f(x)  = \\infty$"
   ]
  },
  {
   "cell_type": "code",
   "execution_count": null,
   "metadata": {},
   "outputs": [],
   "source": [
    "from sympy import *\n",
    "init_session(quiet = True) \n",
    "\n",
    "%matplotlib inline\n",
    "\n",
    "f_x = 1 / (x + 1)\n",
    "plt = plotting.plot(f_x, line_color='red')"
   ]
  },
  {
   "cell_type": "markdown",
   "metadata": {},
   "source": [
    "The series expansion can be caluculated using the SymPy `series` method, where the parameters are as follows:\n",
    "1) variable\n",
    "2) lower limit\n",
    "3) upper limit\n",
    "\n",
    "For example, consider the series expansion of $f(x)$. By default, the `series` method computes the expansion around the point $x = x_0$ and order $x^n$, with the arguments `x0=0` and `n=6`."
   ]
  },
  {
   "cell_type": "code",
   "execution_count": null,
   "metadata": {},
   "outputs": [],
   "source": [
    "f_x.series(x)\n",
    "print(f_x.series(x))"
   ]
  },
  {
   "cell_type": "markdown",
   "metadata": {},
   "source": [
    "To remove the Landau order term, use the `removeO` method:"
   ]
  },
  {
   "cell_type": "code",
   "execution_count": null,
   "metadata": {},
   "outputs": [],
   "source": [
    "f_x.series(x).removeO()\n",
    "print(f_x.series(x).removeO())"
   ]
  },
  {
   "cell_type": "markdown",
   "metadata": {},
   "source": [
    "The limit points and order can also be updated:"
   ]
  },
  {
   "cell_type": "code",
   "execution_count": null,
   "metadata": {},
   "outputs": [],
   "source": [
    "print(f_x.series(x, x0=1, n=3).removeO())"
   ]
  },
  {
   "cell_type": "markdown",
   "metadata": {},
   "source": [
    "### Convergence Testing\n",
    "\n",
    "A common problem in calculus is testing whether a series is convergent (and absolutely convergent) or divergent. SymPy has methods to conduct these tests: `is_comvergent` and `is_absolutely_convergent`.\n",
    "\n",
    "Consider the following series:\n",
    "\n",
    "$g(x) = \\sum_{n=1}^{\\infty} \\frac{1}{(n+1)(n+2)}$\n",
    "\n",
    "To write this expression using SymPy, you can use the `Sum()` function, with the expression as the first argument and a tuple in the following format as the second:\n",
    "`(variable, start, end)`\n",
    "\n",
    "Then, use the `is_convergent` and `is_absolutely_convergent` methods."
   ]
  },
  {
   "cell_type": "code",
   "execution_count": null,
   "metadata": {},
   "outputs": [],
   "source": [
    "g_x = 1 / ((n + 1) * (n + 2))\n",
    "\n",
    "print(Sum(g_x, (n, 1, oo)).is_convergent())\n",
    "print(Sum(g_x, (n, 1, oo)).is_absolutely_convergent())"
   ]
  },
  {
   "cell_type": "markdown",
   "metadata": {},
   "source": [
    "Addional documentation can be found at the official SymPy website: <br>\n",
    "[https://docs.sympy.org/latest/tutorial/calculus.html#series-expansion](https://docs.sympy.org/latest/tutorial/calculus.html#series-expansion) <br>\n",
    "[https://docs.sympy.org/latest/modules/concrete.html#concrete-class-reference](https://docs.sympy.org/latest/modules/concrete.html#concrete-class-reference)"
   ]
  }
 ],
 "metadata": {
  "interpreter": {
   "hash": "bff0b781ef1dabf2906aa1b5726645e989b0b4769c0f1d115369970ed7f2047f"
  },
  "kernelspec": {
   "display_name": "Python 3.9.7 ('calc')",
   "language": "python",
   "name": "python3"
  },
  "language_info": {
   "codemirror_mode": {
    "name": "ipython",
    "version": 3
   },
   "file_extension": ".py",
   "mimetype": "text/x-python",
   "name": "python",
   "nbconvert_exporter": "python",
   "pygments_lexer": "ipython3",
   "version": "3.9.7"
  },
  "orig_nbformat": 4
 },
 "nbformat": 4,
 "nbformat_minor": 2
}
