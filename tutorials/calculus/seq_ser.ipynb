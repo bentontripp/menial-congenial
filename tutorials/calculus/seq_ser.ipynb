{
 "cells": [
  {
   "cell_type": "markdown",
   "metadata": {},
   "source": [
    "# Sequences & Series\n",
    "_______________________\n",
    "\n",
    "Computing a series expansion using SymPy is pretty straightforward. Consider the following equation:\n",
    "\n",
    "$f(x) = \\frac{1}{x + 1}$\n",
    "\n",
    "And recall that $\\lim_{x\\to 0} f(x)  = \\infty$"
   ]
  },
  {
   "cell_type": "code",
   "execution_count": 12,
   "metadata": {},
   "outputs": [
    {
     "name": "stdout",
     "output_type": "stream",
     "text": [
      "\n"
     ]
    },
    {
     "data": {
      "image/png": "[encoded data removed]",
      "text/plain": [
       "<Figure size 432x288 with 1 Axes>"
      ]
     },
     "metadata": {
      "needs_background": "light"
     },
     "output_type": "display_data"
    }
   ],
   "source": [
    "from sympy import *\n",
    "init_session(quiet = True) \n",
    "\n",
    "%matplotlib inline\n",
    "\n",
    "f_x = 1 / (x + 1)\n",
    "plt = plotting.plot(f_x, line_color='red')"
   ]
  },
  {
   "cell_type": "markdown",
   "metadata": {},
   "source": [
    "The series expansion can be caluculated using the SymPy `series` method, where the parameters are as follows:\n",
    "1) variable\n",
    "2) lower limit\n",
    "3) upper limit\n",
    "\n",
    "For example, consider the series expansion of $f(x)$ from 0 to 8:"
   ]
  },
  {
   "cell_type": "code",
   "execution_count": 14,
   "metadata": {},
   "outputs": [
    {
     "data": {
      "image/png": "[encoded data removed]",
      "text/latex": [
       "$\\displaystyle 1 - x + x^{2} - x^{3} + x^{4} - x^{5} + x^{6} - x^{7} + O\\left(x^{8}\\right)$"
      ],
      "text/plain": [
       "         2    3    4    5    6    7    ⎛ 8⎞\n",
       "1 - x + x  - x  + x  - x  + x  - x  + O⎝x ⎠"
      ]
     },
     "execution_count": 14,
     "metadata": {},
     "output_type": "execute_result"
    }
   ],
   "source": [
    "f_x.series(x, 0, 8)"
   ]
  },
  {
   "cell_type": "markdown",
   "metadata": {},
   "source": [
    "Addional documentation can be found at the official SymPy website: [https://docs.sympy.org/latest/tutorial/calculus.html#series-expansion](https://docs.sympy.org/latest/tutorial/calculus.html#series-expansion)"
   ]
  }
 ],
 "metadata": {
  "interpreter": {
   "hash": "bff0b781ef1dabf2906aa1b5726645e989b0b4769c0f1d115369970ed7f2047f"
  },
  "kernelspec": {
   "display_name": "Python 3.9.7 ('calc')",
   "language": "python",
   "name": "python3"
  },
  "language_info": {
   "codemirror_mode": {
    "name": "ipython",
    "version": 3
   },
   "file_extension": ".py",
   "mimetype": "text/x-python",
   "name": "python",
   "nbconvert_exporter": "python",
   "pygments_lexer": "ipython3",
   "version": "3.9.7"
  },
  "orig_nbformat": 4
 },
 "nbformat": 4,
 "nbformat_minor": 2
}
